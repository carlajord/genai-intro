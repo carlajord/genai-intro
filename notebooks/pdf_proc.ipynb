{
 "cells": [
  {
   "cell_type": "code",
   "execution_count": 4,
   "metadata": {},
   "outputs": [],
   "source": [
    "from langchain_community.document_loaders import PyMuPDFLoader\n",
    "from langchain_community.document_loaders import PyPDFLoader\n",
    "import pytesseract\n",
    "from pdf2image import convert_from_path\n",
    "from pdf2image.exceptions import (\n",
    "    PDFInfoNotInstalledError,\n",
    "    PDFPageCountError,\n",
    "    PDFSyntaxError\n",
    ")"
   ]
  },
  {
   "cell_type": "code",
   "execution_count": 5,
   "metadata": {},
   "outputs": [],
   "source": [
    "pdf_path = \"../data/931384001.pdf\""
   ]
  },
  {
   "cell_type": "markdown",
   "metadata": {},
   "source": [
    "loader = PyMuPDFLoader()\n",
    "pages = loader.load_and_split()"
   ]
  },
  {
   "cell_type": "code",
   "execution_count": 6,
   "metadata": {},
   "outputs": [],
   "source": [
    "pages = convert_from_path(pdf_path, 500)"
   ]
  },
  {
   "cell_type": "code",
   "execution_count": 18,
   "metadata": {},
   "outputs": [
    {
     "data": {
      "text/plain": [
       "'../data/931384001.pdf'"
      ]
     },
     "execution_count": 18,
     "metadata": {},
     "output_type": "execute_result"
    }
   ],
   "source": [
    "pdf_path"
   ]
  },
  {
   "cell_type": "code",
   "execution_count": 7,
   "metadata": {},
   "outputs": [
    {
     "data": {
      "text/plain": [
       "[<PIL.PpmImagePlugin.PpmImageFile image mode=RGB size=4250x5494>,\n",
       " <PIL.PpmImagePlugin.PpmImageFile image mode=RGB size=4237x5494>,\n",
       " <PIL.PpmImagePlugin.PpmImageFile image mode=RGB size=4250x5494>,\n",
       " <PIL.PpmImagePlugin.PpmImageFile image mode=RGB size=4250x5494>,\n",
       " <PIL.PpmImagePlugin.PpmImageFile image mode=RGB size=5487x4237>,\n",
       " <PIL.PpmImagePlugin.PpmImageFile image mode=RGB size=4250x5480>,\n",
       " <PIL.PpmImagePlugin.PpmImageFile image mode=RGB size=4250x5494>,\n",
       " <PIL.PpmImagePlugin.PpmImageFile image mode=RGB size=4250x5494>,\n",
       " <PIL.PpmImagePlugin.PpmImageFile image mode=RGB size=5494x4250>,\n",
       " <PIL.PpmImagePlugin.PpmImageFile image mode=RGB size=5487x4250>,\n",
       " <PIL.PpmImagePlugin.PpmImageFile image mode=RGB size=4250x5480>,\n",
       " <PIL.PpmImagePlugin.PpmImageFile image mode=RGB size=4250x5494>,\n",
       " <PIL.PpmImagePlugin.PpmImageFile image mode=RGB size=5487x4244>,\n",
       " <PIL.PpmImagePlugin.PpmImageFile image mode=RGB size=5500x4250>]"
      ]
     },
     "execution_count": 7,
     "metadata": {},
     "output_type": "execute_result"
    }
   ],
   "source": [
    "pages"
   ]
  },
  {
   "cell_type": "code",
   "execution_count": null,
   "metadata": {},
   "outputs": [],
   "source": []
  }
 ],
 "metadata": {
  "kernelspec": {
   "display_name": "Python 3",
   "language": "python",
   "name": "python3"
  },
  "language_info": {
   "codemirror_mode": {
    "name": "ipython",
    "version": 3
   },
   "file_extension": ".py",
   "mimetype": "text/x-python",
   "name": "python",
   "nbconvert_exporter": "python",
   "pygments_lexer": "ipython3",
   "version": "3.11.0"
  }
 },
 "nbformat": 4,
 "nbformat_minor": 2
}
